{
 "cells": [
  {
   "cell_type": "markdown",
   "id": "9823dc23-8d0e-4883-a3c4-595dd5948895",
   "metadata": {},
   "source": [
    "## Loss 분석\n",
    "\n",
    "[Log-Ratio Loss](https://openaccess.thecvf.com/content_CVPR_2019/papers/Kim_Deep_Metric_Learning_Beyond_Binary_Supervision_CVPR_2019_paper.pdf)을 활용하여 영상 $X$와 영상 $Y$ 간의 유사도가 벡터 $h_X$와 $h_Y$ 간의 유사도와 비슷하다록 학습합니다:\n",
    "\n",
    "$$\n",
    "\\big\\{\\log{\\frac{\\mathrm{D}(X,Y)}{\\mathrm{D}(X,Z)}} - \\log{\\frac{1-\\mathrm{sim}(h_X,h_Y)}{1-\\mathrm{sim}(h_X,h_Z)}}\\big\\}^2\n",
    "$$\n",
    "\n",
    "먼저, 학습함에 따라 loss가 어떻게 감소하는지 확인합니다:"
   ]
  },
  {
   "cell_type": "code",
   "execution_count": null,
   "id": "a2aa9245-aa69-4277-ba78-8d14aaa9c726",
   "metadata": {},
   "outputs": [],
   "source": [
    "import os\n",
    "import torch\n",
    "import utils\n",
    "import numpy as np\n",
    "import matplotlib.pyplot as plt"
   ]
  },
  {
   "cell_type": "code",
   "execution_count": 13,
   "id": "0fbb978b-8e47-49b6-bc57-e0aa7051be3e",
   "metadata": {},
   "outputs": [
    {
     "data": {
      "image/png": "[encoded data removed]",
      "text/plain": [
       "<Figure size 432x288 with 1 Axes>"
      ]
     },
     "metadata": {
      "needs_background": "light"
     },
     "output_type": "display_data"
    }
   ],
   "source": [
    "logs = []\n",
    "with open('log.txt', 'r') as f:\n",
    "    log = {}\n",
    "    for line in f:\n",
    "        term = line.split('\\t')\n",
    "        if len(term) < 2:\n",
    "            logs.append(log)\n",
    "            log = {}\n",
    "        else:\n",
    "            log[term[0]] = float(term[1])\n",
    "            \n",
    "epochs = [log['epoch'] for log in logs]\n",
    "losses = [log['loss'] for log in logs]\n",
    "\n",
    "plt.plot(epochs, losses)\n",
    "plt.xlabel('Epochs', fontsize=14)\n",
    "plt.ylabel('Loss', fontsize=14)\n",
    "plt.tight_layout()\n",
    "plt.show()"
   ]
  },
  {
   "cell_type": "markdown",
   "id": "d28d7c69-fb7b-4113-b7cc-381c63c9a25d",
   "metadata": {},
   "source": [
    "## Correlation (연관도) 분석\n",
    "\n",
    "실제 영상 유사도와 벡터간의 거리 간의 연관성을 확인합니다. 먼저 training set을 로드합니다:"
   ]
  },
  {
   "cell_type": "code",
   "execution_count": 2,
   "id": "d0499eaa-6d37-4aa9-b411-b3f0131eb20b",
   "metadata": {},
   "outputs": [],
   "source": [
    "video_size = 20\n",
    "channels = ['ir01.png', 'ir02.png', 'swir.png', 'wv.png']\n",
    "\n",
    "# Read validation set\n",
    "video2image = {}\n",
    "with open('video2image.txt', 'r') as f:\n",
    "    for i, line in enumerate(f):\n",
    "        video2image[i+1] = [int(x) for x in line.split(',')]\n",
    "        \n",
    "data_x, data_y, data_z, sim_xy, sim_xz = [], [], [], [], []\n",
    "with open('train.txt', 'r') as f:\n",
    "    for line in f:\n",
    "        terms = line.split('\\t')\n",
    "\n",
    "        idx_x, idx_y, idx_z = int(terms[0]), int(terms[1]), int(terms[2])\n",
    "        video_x, video_y, video_z = [], [], []\n",
    "        for i in range(video_size):\n",
    "            v_x = torch.stack([utils.read_image('images/image_{}/{}'.format(video2image[idx_x][i], channel)) for channel in channels], 0)\n",
    "            v_y = torch.stack([utils.read_image('images/image_{}/{}'.format(video2image[idx_y][i], channel)) for channel in channels], 0)\n",
    "            v_z = torch.stack([utils.read_image('images/image_{}/{}'.format(video2image[idx_z][i], channel)) for channel in channels], 0)\n",
    "            video_x.append(v_x)\n",
    "            video_y.append(v_y)\n",
    "            video_z.append(v_z)\n",
    "        video_x, video_y, video_z = torch.stack(video_x, 0), torch.stack(video_y, 0), torch.stack(video_z, 0)\n",
    "\n",
    "        data_x.append(video_x)\n",
    "        data_y.append(video_y)\n",
    "        data_z.append(video_z)\n",
    "        sim_xy.append(float(terms[3]))\n",
    "        sim_xz.append(float(terms[4]))\n",
    "    \n",
    "data_x, data_y, data_z = torch.stack(data_x, 0), torch.stack(data_y, 0), torch.stack(data_z, 0)\n",
    "sim_xy, sim_xz = torch.tensor(sim_xy), torch.tensor(sim_xz)\n",
    "data_size, video_length, video_channels, video_height, video_width = data_x.shape"
   ]
  },
  {
   "cell_type": "code",
   "execution_count": 3,
   "id": "a22b8571-fd54-41ff-9ad4-f0505276fdb7",
   "metadata": {},
   "outputs": [],
   "source": [
    "trained_model = torch.load(os.path.join('models', 'model_ep_100.pt'))\n",
    "device = next(trained_model.parameters()).device\n",
    "\n",
    "trained_model.eval()\n",
    "data_x, data_y, data_z = torch.flatten(data_x, 3, 4), torch.flatten(data_y, 3, 4), torch.flatten(data_z, 3, 4)\n",
    "emb_x, emb_y, emb_z = [], [], []\n",
    "\n",
    "for i in range(data_size):\n",
    "    _data_x, _data_y, _data_z = data_x[i:i+1], data_y[i:i+1], data_z[i:i+1]\n",
    "    emb_x.append(trained_model.embed_video(_data_x.to(device)).detach().cpu())\n",
    "    emb_y.append(trained_model.embed_video(_data_y.to(device)).detach().cpu())\n",
    "    emb_z.append(trained_model.embed_video(_data_z.to(device)).detach().cpu())\n",
    "    \n",
    "emb_x = torch.cat(emb_x, 0)\n",
    "emb_y = torch.cat(emb_y, 0)\n",
    "emb_z = torch.cat(emb_z, 0)"
   ]
  },
  {
   "cell_type": "code",
   "execution_count": 16,
   "id": "76c9123a-d8d8-4993-8b97-e4157a004112",
   "metadata": {},
   "outputs": [
    {
     "name": "stdout",
     "output_type": "stream",
     "text": [
      "연관도:\t -0.9753580952989188 \n",
      "\n"
     ]
    },
    {
     "data": {
      "image/png": "[encoded data removed]",
      "text/plain": [
       "<Figure size 432x288 with 1 Axes>"
      ]
     },
     "metadata": {
      "needs_background": "light"
     },
     "output_type": "display_data"
    }
   ],
   "source": [
    "dist_xy = torch.norm(emb_x - emb_y, dim=1)\n",
    "dist_xz = torch.norm(emb_x - emb_z, dim=1)\n",
    "dist = dist_xy.tolist() + dist_xz.tolist()\n",
    "sim = sim_xy.tolist() + sim_xz.tolist()\n",
    "\n",
    "corr = np.corrcoef(sim, dist)[0,1]\n",
    "print('연관도:\\t', corr, '\\n')\n",
    "\n",
    "plt.scatter(sim, dist)\n",
    "plt.xlabel('Video Similarity', fontsize=14)\n",
    "plt.ylabel('Vector Distance', fontsize=14)\n",
    "plt.tight_layout()\n",
    "plt.show()"
   ]
  },
  {
   "cell_type": "markdown",
   "id": "e72f94fb-fda6-4594-9eb7-3952356eb6ff",
   "metadata": {},
   "source": [
    "## Hyperparameter 튜닝\n",
    "\n",
    "Validation (검증) set을 활용하여 최적의 epoch를 찾습니다. 먼저, validation을 로드합니다:"
   ]
  },
  {
   "cell_type": "code",
   "execution_count": 17,
   "id": "a1e4430c-ad10-4aba-bf55-c410a64a4905",
   "metadata": {},
   "outputs": [],
   "source": [
    "video_size = 20\n",
    "channels = ['ir01.png', 'ir02.png', 'swir.png', 'wv.png']\n",
    "\n",
    "# Read validation set\n",
    "video2image = {}\n",
    "with open('video2image.txt', 'r') as f:\n",
    "    for i, line in enumerate(f):\n",
    "        video2image[i+1] = [int(x) for x in line.split(',')]\n",
    "        \n",
    "data_x, data_y, data_z, sim_xy, sim_xz = [], [], [], [], []\n",
    "with open('valid.txt', 'r') as f:\n",
    "    for line in f:\n",
    "        terms = line.split('\\t')\n",
    "\n",
    "        idx_x, idx_y, idx_z = int(terms[0]), int(terms[1]), int(terms[2])\n",
    "        video_x, video_y, video_z = [], [], []\n",
    "        for i in range(video_size):\n",
    "            v_x = torch.stack([utils.read_image('images/image_{}/{}'.format(video2image[idx_x][i], channel)) for channel in channels], 0)\n",
    "            v_y = torch.stack([utils.read_image('images/image_{}/{}'.format(video2image[idx_y][i], channel)) for channel in channels], 0)\n",
    "            v_z = torch.stack([utils.read_image('images/image_{}/{}'.format(video2image[idx_z][i], channel)) for channel in channels], 0)\n",
    "            video_x.append(v_x)\n",
    "            video_y.append(v_y)\n",
    "            video_z.append(v_z)\n",
    "        video_x, video_y, video_z = torch.stack(video_x, 0), torch.stack(video_y, 0), torch.stack(video_z, 0)\n",
    "\n",
    "        data_x.append(video_x)\n",
    "        data_y.append(video_y)\n",
    "        data_z.append(video_z)\n",
    "        sim_xy.append(float(terms[3]))\n",
    "        sim_xz.append(float(terms[4]))\n",
    "    \n",
    "data_x, data_y, data_z = torch.stack(data_x, 0), torch.stack(data_y, 0), torch.stack(data_z, 0)\n",
    "sim_xy, sim_xz = torch.tensor(sim_xy), torch.tensor(sim_xz)\n",
    "data_size, video_length, video_channels, video_height, video_width = data_x.shape\n",
    "\n",
    "data_x, data_y, data_z = torch.flatten(data_x, 3, 4), torch.flatten(data_y, 3, 4), torch.flatten(data_z, 3, 4)"
   ]
  },
  {
   "cell_type": "markdown",
   "id": "1f59cbd9-3a86-4405-a1cf-5f4ed28017de",
   "metadata": {},
   "source": [
    "다음으로, 최적의 epoch를 찾습니다:"
   ]
  },
  {
   "cell_type": "code",
   "execution_count": 19,
   "id": "f607a69d-41c2-4e9b-8738-741f2aeac74b",
   "metadata": {},
   "outputs": [
    {
     "name": "stdout",
     "output_type": "stream",
     "text": [
      "Epoch:\t 5\n",
      "Correlation:\t -0.9713542147489228 \n",
      "\n",
      "Epoch:\t 10\n",
      "Correlation:\t -0.9711769790709727 \n",
      "\n",
      "Epoch:\t 15\n",
      "Correlation:\t -0.9748615712059845 \n",
      "\n",
      "Epoch:\t 20\n",
      "Correlation:\t -0.9749376645122731 \n",
      "\n",
      "Epoch:\t 25\n",
      "Correlation:\t -0.975026530093132 \n",
      "\n",
      "Epoch:\t 30\n",
      "Correlation:\t -0.9747437922921761 \n",
      "\n",
      "Epoch:\t 35\n",
      "Correlation:\t -0.9747095962883977 \n",
      "\n",
      "Epoch:\t 40\n",
      "Correlation:\t -0.9749971583333527 \n",
      "\n",
      "Epoch:\t 45\n",
      "Correlation:\t -0.9749359719481867 \n",
      "\n",
      "Epoch:\t 50\n",
      "Correlation:\t -0.9750042503470625 \n",
      "\n",
      "Epoch:\t 55\n",
      "Correlation:\t -0.9750188335454547 \n",
      "\n",
      "Epoch:\t 60\n",
      "Correlation:\t -0.9750754192199352 \n",
      "\n",
      "Epoch:\t 65\n",
      "Correlation:\t -0.9751129222406035 \n",
      "\n",
      "Epoch:\t 70\n",
      "Correlation:\t -0.9750185138450883 \n",
      "\n",
      "Epoch:\t 75\n",
      "Correlation:\t -0.9750459995338068 \n",
      "\n",
      "Epoch:\t 80\n",
      "Correlation:\t -0.9751322693900029 \n",
      "\n",
      "Epoch:\t 85\n",
      "Correlation:\t -0.9750794736142353 \n",
      "\n",
      "Epoch:\t 90\n",
      "Correlation:\t -0.9750826884405227 \n",
      "\n",
      "Epoch:\t 95\n",
      "Correlation:\t -0.9750381097409784 \n",
      "\n",
      "Epoch:\t 100\n",
      "Correlation:\t -0.9753580952989188 \n",
      "\n"
     ]
    }
   ],
   "source": [
    "best_corr, best_epoch = 1e10, -1\n",
    "\n",
    "for epoch in range(5, 101, 5):\n",
    "    trained_model = torch.load(os.path.join('models', 'model_ep_{}.pt'.format(epoch)))\n",
    "    device = next(trained_model.parameters()).device\n",
    "    \n",
    "    trained_model.eval()\n",
    "    emb_x, emb_y, emb_z = [], [], []\n",
    "    \n",
    "    for i in range(data_size):\n",
    "        _data_x, _data_y, _data_z = data_x[i:i+1], data_y[i:i+1], data_z[i:i+1]\n",
    "        emb_x.append(trained_model.embed_video(_data_x.to(device)).detach().cpu())\n",
    "        emb_y.append(trained_model.embed_video(_data_y.to(device)).detach().cpu())\n",
    "        emb_z.append(trained_model.embed_video(_data_z.to(device)).detach().cpu())\n",
    "    \n",
    "    emb_x = torch.cat(emb_x, 0)\n",
    "    emb_y = torch.cat(emb_y, 0)\n",
    "    emb_z = torch.cat(emb_z, 0)\n",
    "    \n",
    "    dist_xy = torch.norm(emb_x - emb_y, dim=1)\n",
    "    dist_xz = torch.norm(emb_x - emb_z, dim=1)\n",
    "    dist = dist_xy.tolist() + dist_xz.tolist()\n",
    "    sim = sim_xy.tolist() + sim_xz.tolist()\n",
    "\n",
    "    corr = np.corrcoef(sim, dist)[0,1]\n",
    "    if corr < best_corr:\n",
    "        best_corr = corr\n",
    "        best_epoch = epoch\n",
    "    print('Epoch:\\t\\t', epoch)\n",
    "    print('Correlation:\\t', corr, '\\n')"
   ]
  },
  {
   "cell_type": "markdown",
   "id": "737c799a-b1f8-4603-875b-41e5d448b3f7",
   "metadata": {},
   "source": [
    "최적의 epoch의 모델을 활용하여 test set을 활용하여 평가합니다. 먼저 test set을 로드합니다:"
   ]
  },
  {
   "cell_type": "code",
   "execution_count": 20,
   "id": "fb0297e8-9dc4-4088-9c37-e046c86b6ea2",
   "metadata": {},
   "outputs": [],
   "source": [
    "video_size = 20\n",
    "channels = ['ir01.png', 'ir02.png', 'swir.png', 'wv.png']\n",
    "\n",
    "# Read validation set\n",
    "video2image = {}\n",
    "with open('video2image.txt', 'r') as f:\n",
    "    for i, line in enumerate(f):\n",
    "        video2image[i+1] = [int(x) for x in line.split(',')]\n",
    "        \n",
    "data_x, data_y, data_z, sim_xy, sim_xz = [], [], [], [], []\n",
    "with open('test.txt', 'r') as f:\n",
    "    for line in f:\n",
    "        terms = line.split('\\t')\n",
    "\n",
    "        idx_x, idx_y, idx_z = int(terms[0]), int(terms[1]), int(terms[2])\n",
    "        video_x, video_y, video_z = [], [], []\n",
    "        for i in range(video_size):\n",
    "            v_x = torch.stack([utils.read_image('images/image_{}/{}'.format(video2image[idx_x][i], channel)) for channel in channels], 0)\n",
    "            v_y = torch.stack([utils.read_image('images/image_{}/{}'.format(video2image[idx_y][i], channel)) for channel in channels], 0)\n",
    "            v_z = torch.stack([utils.read_image('images/image_{}/{}'.format(video2image[idx_z][i], channel)) for channel in channels], 0)\n",
    "            video_x.append(v_x)\n",
    "            video_y.append(v_y)\n",
    "            video_z.append(v_z)\n",
    "        video_x, video_y, video_z = torch.stack(video_x, 0), torch.stack(video_y, 0), torch.stack(video_z, 0)\n",
    "\n",
    "        data_x.append(video_x)\n",
    "        data_y.append(video_y)\n",
    "        data_z.append(video_z)\n",
    "        sim_xy.append(float(terms[3]))\n",
    "        sim_xz.append(float(terms[4]))\n",
    "    \n",
    "data_x, data_y, data_z = torch.stack(data_x, 0), torch.stack(data_y, 0), torch.stack(data_z, 0)\n",
    "sim_xy, sim_xz = torch.tensor(sim_xy), torch.tensor(sim_xz)\n",
    "data_size, video_length, video_channels, video_height, video_width = data_x.shape\n",
    "\n",
    "data_x, data_y, data_z = torch.flatten(data_x, 3, 4), torch.flatten(data_y, 3, 4), torch.flatten(data_z, 3, 4)"
   ]
  },
  {
   "cell_type": "code",
   "execution_count": 21,
   "id": "6ae7c112-3a35-405d-b4f8-e00e0b7c8015",
   "metadata": {},
   "outputs": [],
   "source": [
    "trained_model = torch.load(os.path.join('models', 'model_ep_{}.pt'.format(best_epoch)))\n",
    "device = next(trained_model.parameters()).device\n",
    "\n",
    "trained_model.eval()\n",
    "emb_x, emb_y, emb_z = [], [], []\n",
    "\n",
    "for i in range(data_size):\n",
    "    _data_x, _data_y, _data_z = data_x[i:i+1], data_y[i:i+1], data_z[i:i+1]\n",
    "    emb_x.append(trained_model.embed_video(_data_x.to(device)).detach().cpu())\n",
    "    emb_y.append(trained_model.embed_video(_data_y.to(device)).detach().cpu())\n",
    "    emb_z.append(trained_model.embed_video(_data_z.to(device)).detach().cpu())\n",
    "    \n",
    "emb_x = torch.cat(emb_x, 0)\n",
    "emb_y = torch.cat(emb_y, 0)\n",
    "emb_z = torch.cat(emb_z, 0)"
   ]
  },
  {
   "cell_type": "code",
   "execution_count": 22,
   "id": "36507211-29f0-4996-b47d-f4e02187f577",
   "metadata": {},
   "outputs": [
    {
     "name": "stdout",
     "output_type": "stream",
     "text": [
      "연관도:\t -0.9553013183938571 \n",
      "\n"
     ]
    },
    {
     "data": {
      "image/png": "[encoded data removed]",
      "text/plain": [
       "<Figure size 432x288 with 1 Axes>"
      ]
     },
     "metadata": {
      "needs_background": "light"
     },
     "output_type": "display_data"
    }
   ],
   "source": [
    "dist_xy = torch.norm(emb_x - emb_y, dim=1)\n",
    "dist_xz = torch.norm(emb_x - emb_z, dim=1)\n",
    "dist = dist_xy.tolist() + dist_xz.tolist()\n",
    "sim = sim_xy.tolist() + sim_xz.tolist()\n",
    "\n",
    "corr = np.corrcoef(sim, dist)[0,1]\n",
    "print('연관도:\\t', corr, '\\n')\n",
    "\n",
    "plt.scatter(sim, dist)\n",
    "plt.xlabel('Video Similarity', fontsize=14)\n",
    "plt.ylabel('Vector Distance', fontsize=14)\n",
    "plt.tight_layout()\n",
    "plt.show()"
   ]
  },
  {
   "cell_type": "code",
   "execution_count": null,
   "id": "6ac3fbf7-cb47-44cd-b2ee-bd3561e65af7",
   "metadata": {},
   "outputs": [],
   "source": []
  }
 ],
 "metadata": {
  "kernelspec": {
   "display_name": "Python 3",
   "language": "python",
   "name": "python3"
  },
  "language_info": {
   "codemirror_mode": {
    "name": "ipython",
    "version": 3
   },
   "file_extension": ".py",
   "mimetype": "text/x-python",
   "name": "python",
   "nbconvert_exporter": "python",
   "pygments_lexer": "ipython3",
   "version": "3.7.9"
  }
 },
 "nbformat": 4,
 "nbformat_minor": 5
}
