{
 "cells": [
  {
   "cell_type": "markdown",
   "id": "1d38e0cf-5771-4e69-8120-a29cccffc8a2",
   "metadata": {
    "tags": []
   },
   "source": [
    "# 유효한 비디오 추출 과정\n",
    "\n",
    "먼저, 공개한 웹사이트에서 COMS에 관한 모든 이미지를 다운받아 *data* 폴더에 저장합니다.\n",
    "\n",
    "해당 폴더는 다음과 같이 구성되어야합니다.\n",
    "\n",
    "\"{년도}{월}/{일}/{이미지 이름}\" e.g. 202111/01/...\n",
    "\n",
    "여기서, COMS 위성에서 찍은 이미지들을 가지고 다음 과정을 보여주고자 합니다.\n",
    "\n",
    "1. 유효한 이미지를 뽑아내기: 이미지 하나를 (4=전체 채널 개수, 이미지 높이, 이미지 너비)로 보아, 동시대에 4개의 다른 채널에서 찍힌 이미지가 존재할 경우만 고려합니다.\n",
    "\n",
    "2. 관측 주기를 분석하기: 시간순으로 정렬된 이미지들 간의 시간 차이를 분석합니다.\n",
    "\n",
    "3. 6시간 길이의 비디오를 구성할 이미지는 몇 장 정도인 지 분석하기: 관측된 모든 유효한 이미지를 기준으로 6시간 동안 찍힌 이미지의 개수를 분석합니다."
   ]
  },
  {
   "cell_type": "code",
   "execution_count": 1,
   "id": "2d155860-029e-4f5d-8be1-39139310c43c",
   "metadata": {},
   "outputs": [],
   "source": [
    "import os\n",
    "from collections import defaultdict\n",
    "from datetime import datetime, timedelta\n",
    "import numpy as np\n",
    "import matplotlib.pyplot as plt\n",
    "import matplotlib.image as mpimg\n",
    "from tqdm import tqdm\n",
    "import random\n",
    "from skimage.measure import block_reduce\n",
    "import numpy as np\n",
    "from PIL import Image\n",
    "from skimage.io import imread, imsave"
   ]
  },
  {
   "cell_type": "code",
   "execution_count": 2,
   "id": "6518a94c-9f18-4a1e-8f3d-9bafef64b6d4",
   "metadata": {},
   "outputs": [],
   "source": [
    "data_directory = '/data1/'"
   ]
  },
  {
   "cell_type": "markdown",
   "id": "ca95eb2f-ef81-4f99-999f-65cc3a27f7bd",
   "metadata": {},
   "source": [
    "1. 유효한 이미지 (4=전체 채널 개수, 이미지 높이, 이미지 너비) 추출"
   ]
  },
  {
   "cell_type": "code",
   "execution_count": 3,
   "id": "4286eb50-26ed-4734-a74b-90aec57183f3",
   "metadata": {},
   "outputs": [
    {
     "data": {
      "image/png": "[encoded data removed]",
      "text/plain": [
       "<Figure size 600x400 with 1 Axes>"
      ]
     },
     "metadata": {
      "needs_background": "light"
     },
     "output_type": "display_data"
    }
   ],
   "source": [
    "datetime2images = defaultdict(dict)\n",
    "month2days = [-1, 31, 29, 31, 30, 31, 30, 31, 31, 30, 31, 30, 31]\n",
    "\n",
    "for year in [2010, 2011, 2012, 2013, 2014]:\n",
    "    for month in range(1, 12+1):\n",
    "        for day in range(1, 31+1):            \n",
    "            if (year == 2010) and (month < 9):\n",
    "                continue           \n",
    "            if (month2days[month] < day) or (month == 2 and year % 4 and day > 28):\n",
    "                continue\n",
    "            \n",
    "            directory = data_directory + '{}{:02d}/{:02d}'.format(year, month, day)\n",
    "            if os.path.isdir(directory):\n",
    "                file_list = os.listdir(directory)\n",
    "                file_cnt = 0\n",
    "                for f in file_list:\n",
    "                    satellite, _, _, sensor, v, date = f.split('.')[0].split('_')\n",
    "                    if v != 'ea040ps':\n",
    "                        continue\n",
    "                    datetime2images[date][sensor] = f\n",
    "                    \n",
    "valid_datetime = []\n",
    "numchannel_per_img = defaultdict(int)\n",
    "for d in datetime2images:\n",
    "    numchannel_per_img[len(datetime2images[d].keys())] += 1\n",
    "    if len((datetime2images[d].keys())) == 4:\n",
    "        valid_datetime.append(d)\n",
    "valid_datetime = sorted(valid_datetime)\n",
    "\n",
    "plt.figure(dpi=100)\n",
    "plt.bar(numchannel_per_img.keys(), numchannel_per_img.values())\n",
    "plt.yscale('log')\n",
    "plt.xlabel(\"# Channels\")\n",
    "plt.ylabel(\"# Images\")\n",
    "plt.tight_layout()\n",
    "plt.show()"
   ]
  },
  {
   "cell_type": "markdown",
   "id": "7d4fc36b-e277-41fd-ac40-c842b03b93ce",
   "metadata": {},
   "source": [
    "2. 관측 주기 분석"
   ]
  },
  {
   "cell_type": "code",
   "execution_count": 4,
   "id": "0fb13f64-d5ee-4550-8819-4931c0a0d255",
   "metadata": {},
   "outputs": [
    {
     "name": "stdout",
     "output_type": "stream",
     "text": [
      "86% images have  15.0  minute time interval\n"
     ]
    },
    {
     "data": {
      "image/png": "[encoded data removed]",
      "text/plain": [
       "<Figure size 800x240 with 1 Axes>"
      ]
     },
     "metadata": {
      "needs_background": "light"
     },
     "output_type": "display_data"
    }
   ],
   "source": [
    "date_list = sorted(list(datetime2images.keys()))\n",
    "\n",
    "year, month, day, hour, minute = int(date_list[0][0:4]), int(date_list[0][4:6]), int(date_list[0][6:8]), int(date_list[0][8:10]), int(date_list[0][10:12])\n",
    "start_date = previous_date = datetime(year, month, day, hour, minute)\n",
    "\n",
    "time_diff = defaultdict(int)\n",
    "for d in date_list:\n",
    "    if len(datetime2images[d]) == 4: # valid image\n",
    "        year, month, day, hour, minute = int(d[0:4]), int(d[4:6]), int(d[6:8]), int(d[8:10]), int(d[10:12])\n",
    "        _d = datetime(year, month, day, hour, minute)\n",
    "        delta_minute = (_d - previous_date).total_seconds() / 60\n",
    "        time_diff[(delta_minute)] += 1\n",
    "        previous_date = _d\n",
    "        end_date = _d\n",
    "            \n",
    "x = sorted(list(time_diff.keys()))\n",
    "y = [time_diff[_x] for _x in x]\n",
    "\n",
    "argmax_interval = x[np.argmax(y)]\n",
    "print(\"%d\" % (int(time_diff[argmax_interval] / len(valid_datetime) * 100)) + \"% images have \", argmax_interval, \" minute time interval\")\n",
    "# print(x)\n",
    "\n",
    "plt.figure(figsize=(10,3), dpi=80)\n",
    "plt.bar(x,y)\n",
    "plt.ylabel(\"Number\")\n",
    "plt.yscale('log')\n",
    "plt.xscale('log')\n",
    "plt.xlabel(\"Time Interval (minute) \")\n",
    "# plt.xticks(np.arange(min(x), max(x)+1, 100.0))\n",
    "plt.show()\n",
    "plt.close()"
   ]
  },
  {
   "cell_type": "markdown",
   "id": "43ec5efb-41a5-484e-b16d-8bb1d493f4cf",
   "metadata": {},
   "source": [
    "3. 6시간 길이의 비디오를 구성하기 위한 적절한 이미지 개수 판단"
   ]
  },
  {
   "cell_type": "code",
   "execution_count": 5,
   "id": "b281be98-f73b-4f17-a948-4ebbd7e672d5",
   "metadata": {},
   "outputs": [],
   "source": [
    "video_length = 6 # hour\n",
    "imgcnt2videos = defaultdict(list)"
   ]
  },
  {
   "cell_type": "code",
   "execution_count": 6,
   "id": "2e7336fe-4e0d-4959-8b29-433cd052fd17",
   "metadata": {},
   "outputs": [
    {
     "name": "stdout",
     "output_type": "stream",
     "text": [
      "48% videos have 22 length.\n"
     ]
    },
    {
     "data": {
      "image/png": "[encoded data removed]",
      "text/plain": [
       "<Figure size 432x288 with 1 Axes>"
      ]
     },
     "metadata": {
      "needs_background": "light"
     },
     "output_type": "display_data"
    }
   ],
   "source": [
    "num_videos = 0\n",
    "for i, d_i in enumerate(valid_datetime):\n",
    "    year, month, day, hour, minute = int(d_i[0:4]), int(d_i[4:6]), int(d_i[6:8]), int(d_i[8:10]), int(d_i[10:12])\n",
    "    _d_i = datetime(year, month, day, hour, minute)\n",
    "    cnt = 1\n",
    "    for j in range(i+1, len(valid_datetime)):\n",
    "        d_j = valid_datetime[j]\n",
    "        year, month, day, hour, minute = int(d_j[0:4]), int(d_j[4:6]), int(d_j[6:8]), int(d_j[8:10]), int(d_j[10:12])\n",
    "        _d_j = datetime(year, month, day, hour, minute) \n",
    "        time_delta = (_d_j - _d_i).total_seconds() / 60 / 60\n",
    "        if time_delta > video_length:\n",
    "            break\n",
    "        else:\n",
    "            cnt += 1\n",
    "    imgcnt2videos[cnt].append(d_i)\n",
    "    num_videos += 1\n",
    "    \n",
    "max_cnt = max(imgcnt2videos.keys())\n",
    "x = list(range(1, max_cnt+1))\n",
    "y = [len(imgcnt2videos[_x]) for _x in x]\n",
    "max_idx = np.argmax(y)\n",
    "argmax_num = x[max_idx]\n",
    "print(\"%d\" % (int(y[max_idx] / num_videos * 100)) + \"% videos have \" + str(argmax_num) + \" length.\")\n",
    "\n",
    "plt.bar(x, y)\n",
    "plt.xlabel('# of Images per Video (delta =' + str(video_length) + 'h)', fontsize=14)\n",
    "plt.ylabel('# of Videos', fontsize=14)\n",
    "plt.tight_layout()\n",
    "plt.show()"
   ]
  },
  {
   "cell_type": "markdown",
   "id": "c11ac143-0af5-487a-b016-473a507bec27",
   "metadata": {},
   "source": [
    "4. 비디오 생성 과정"
   ]
  },
  {
   "cell_type": "code",
   "execution_count": 7,
   "id": "0b3dba28-cec5-4599-9c70-4a88049f0e35",
   "metadata": {},
   "outputs": [],
   "source": [
    "numimage_per_video = 20\n",
    "videos = defaultdict(list)"
   ]
  },
  {
   "cell_type": "code",
   "execution_count": 8,
   "id": "60db2f94-9cf1-46b5-bb7c-5cdb8cf6462d",
   "metadata": {},
   "outputs": [
    {
     "name": "stdout",
     "output_type": "stream",
     "text": [
      "Videos whose length >= 20 is 97% in all possible videos\n"
     ]
    }
   ],
   "source": [
    "for i, datetime_i in enumerate(valid_datetime):\n",
    "    year, month, day, hour, minute = int(datetime_i[0:4]), int(datetime_i[4:6]), int(datetime_i[6:8]), int(datetime_i[8:10]), int(datetime_i[10:12])\n",
    "    t_i = datetime(year, month, day, hour, minute)\n",
    "    videos[datetime_i].append(datetime_i)\n",
    "    for j in range(i+1, len(valid_datetime)):\n",
    "        datetime_j = valid_datetime[j]\n",
    "        year, month, day, hour, minute = int(datetime_j[0:4]), int(datetime_j[4:6]), int(datetime_j[6:8]), int(datetime_j[8:10]), int(datetime_j[10:12])\n",
    "        t_j = datetime(year, month, day, hour, minute)\n",
    "        length = (t_j - t_i).total_seconds() / 60 / 60\n",
    "        if length > video_length:\n",
    "            break\n",
    "        else:\n",
    "            videos[datetime_i].append(datetime_j)\n",
    "\n",
    "filtered_videos = []\n",
    "for v in sorted(list(videos.keys())):\n",
    "    if len(videos[v]) >= numimage_per_video:\n",
    "        filtered_videos.append(videos[v])\n",
    "            \n",
    "print(\"Videos whose length >= {} is {}\".format(numimage_per_video, int(len(filtered_videos) / len(videos) * 100)) + \"% in all possible videos\")"
   ]
  },
  {
   "cell_type": "code",
   "execution_count": null,
   "id": "57394f6d-9a98-42e9-a0ff-702b30ff706d",
   "metadata": {},
   "outputs": [],
   "source": []
  }
 ],
 "metadata": {
  "kernelspec": {
   "display_name": "Python 3",
   "language": "python",
   "name": "python3"
  },
  "language_info": {
   "codemirror_mode": {
    "name": "ipython",
    "version": 3
   },
   "file_extension": ".py",
   "mimetype": "text/x-python",
   "name": "python",
   "nbconvert_exporter": "python",
   "pygments_lexer": "ipython3",
   "version": "3.7.9"
  }
 },
 "nbformat": 4,
 "nbformat_minor": 5
}
